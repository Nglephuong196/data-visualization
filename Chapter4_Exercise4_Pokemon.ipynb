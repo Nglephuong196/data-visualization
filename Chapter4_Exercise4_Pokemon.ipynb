{
 "cells": [
  {
   "cell_type": "markdown",
   "metadata": {},
   "source": [
    "# Chapter 4 - Exericse 4: Pokemon    "
   ]
  },
  {
   "cell_type": "markdown",
   "metadata": {},
   "source": [
    "Hướng dẫn chung:\n",
    "1. Tạo DataFrame từ Dictionary: <p style=\"color:blue\">biến_dataframe = pd.DataFrame(<biến dictionary>)</p>"
   ]
  },
  {
   "cell_type": "markdown",
   "metadata": {},
   "source": [
    "### Thực hiện các yêu cầu sau, và đối chiếu với kết quả Output:"
   ]
  },
  {
   "cell_type": "code",
   "execution_count": 1,
   "metadata": {},
   "outputs": [],
   "source": [
    "# Cho dictionary như sau:\n",
    "raw_data = {\"name\": ['Bulbasaur', 'Charmander','Squirtle','Caterpie'],\n",
    "            \"evolution\": ['Ivysaur','Charmeleon','Wartortle','Metapod'],\n",
    "            \"type\": ['grass', 'fire', 'water', 'bug'],\n",
    "            \"hp\": [45, 39, 44, 45],\n",
    "            \"pokedex\": ['yes', 'no','yes','no']                        \n",
    "            }"
   ]
  },
  {
   "cell_type": "code",
   "execution_count": 2,
   "metadata": {},
   "outputs": [],
   "source": [
    "# Import thư viện\n",
    "import pandas as pd"
   ]
  },
  {
   "cell_type": "code",
   "execution_count": null,
   "metadata": {},
   "outputs": [],
   "source": [
    "# Câu 1: Tạo dataframe pokemon từ dictionary raw_data\n",
    "\n",
    "# Xem kiểu dữ liệu (type) và kích thước (shape) của pokemon\n",
    "\n",
    "# In nội dung các dòng dữ liệu đầu tiên (head) của pokemon"
   ]
  },
  {
   "cell_type": "markdown",
   "metadata": {},
   "source": [
    "<details>\n",
    "  <summary>Nhấn vào đây để xem kết quả!</summary>\n",
    " <pre>&lt;class 'pandas.core.frame.DataFrame'&gt;\n",
    "(4, 5)\n",
    "</pre>\n",
    "\n",
    "<div>\n",
    "\n",
    "<table border=\"1\" class=\"dataframe\">\n",
    "  <thead>\n",
    "    <tr style=\"text-align: right\">\n",
    "      <th></th>\n",
    "      <th>name</th>\n",
    "      <th>evolution</th>\n",
    "      <th>type</th>\n",
    "      <th>hp</th>\n",
    "      <th>pokedex</th>\n",
    "    </tr>\n",
    "  </thead>\n",
    "  <tbody>\n",
    "    <tr>\n",
    "      <th>0</th>\n",
    "      <td>Bulbasaur</td>\n",
    "      <td>Ivysaur</td>\n",
    "      <td>grass</td>\n",
    "      <td>45</td>\n",
    "      <td>yes</td>\n",
    "    </tr>\n",
    "    <tr>\n",
    "      <th>1</th>\n",
    "      <td>Charmander</td>\n",
    "      <td>Charmeleon</td>\n",
    "      <td>fire</td>\n",
    "      <td>39</td>\n",
    "      <td>no</td>\n",
    "    </tr>\n",
    "    <tr>\n",
    "      <th>2</th>\n",
    "      <td>Squirtle</td>\n",
    "      <td>Wartortle</td>\n",
    "      <td>water</td>\n",
    "      <td>44</td>\n",
    "      <td>yes</td>\n",
    "    </tr>\n",
    "    <tr>\n",
    "      <th>3</th>\n",
    "      <td>Caterpie</td>\n",
    "      <td>Metapod</td>\n",
    "      <td>bug</td>\n",
    "      <td>45</td>\n",
    "      <td>no</td>\n",
    "    </tr>\n",
    "  </tbody>\n",
    "</table>\n",
    "</div>\n",
    "\n",
    "</details>"
   ]
  },
  {
   "cell_type": "code",
   "execution_count": null,
   "metadata": {},
   "outputs": [],
   "source": [
    "# Câu 2: Sắp xếp lại các cột của dataframe pokemon theo thứ tự 'name', 'type', 'hp', 'evolution','pokedex'. \n",
    "\n"
   ]
  },
  {
   "cell_type": "markdown",
   "metadata": {},
   "source": [
    "<details>\n",
    "  <summary>Nhấn vào đây để xem kết quả!</summary>\n",
    "  \n",
    "<div>\n",
    "\n",
    "<table border=\"1\" class=\"dataframe\">\n",
    "  <thead>\n",
    "    <tr style=\"text-align: right\">\n",
    "      <th></th>\n",
    "      <th>name</th>\n",
    "      <th>type</th>\n",
    "      <th>hp</th>\n",
    "      <th>evolution</th>\n",
    "      <th>pokedex</th>\n",
    "    </tr>\n",
    "  </thead>\n",
    "  <tbody>\n",
    "    <tr>\n",
    "      <th>0</th>\n",
    "      <td>Bulbasaur</td>\n",
    "      <td>grass</td>\n",
    "      <td>45</td>\n",
    "      <td>Ivysaur</td>\n",
    "      <td>yes</td>\n",
    "    </tr>\n",
    "    <tr>\n",
    "      <th>1</th>\n",
    "      <td>Charmander</td>\n",
    "      <td>fire</td>\n",
    "      <td>39</td>\n",
    "      <td>Charmeleon</td>\n",
    "      <td>no</td>\n",
    "    </tr>\n",
    "    <tr>\n",
    "      <th>2</th>\n",
    "      <td>Squirtle</td>\n",
    "      <td>water</td>\n",
    "      <td>44</td>\n",
    "      <td>Wartortle</td>\n",
    "      <td>yes</td>\n",
    "    </tr>\n",
    "    <tr>\n",
    "      <th>3</th>\n",
    "      <td>Caterpie</td>\n",
    "      <td>bug</td>\n",
    "      <td>45</td>\n",
    "      <td>Metapod</td>\n",
    "      <td>no</td>\n",
    "    </tr>\n",
    "  </tbody>\n",
    "</table>\n",
    "</div>\n",
    "\n",
    "</details>"
   ]
  },
  {
   "cell_type": "code",
   "execution_count": null,
   "metadata": {},
   "outputs": [],
   "source": [
    "# Câu 3: Tạo thêm cột place có giá trị mỗi ô là nơi cho pokemon\n",
    "# Ví dụ: ['park','street','lake','forest']\n"
   ]
  },
  {
   "cell_type": "markdown",
   "metadata": {},
   "source": [
    "<details>\n",
    "  <summary>Nhấn vào đây để xem kết quả!</summary>\n",
    "  \n",
    "<div>\n",
    "\n",
    "<table border=\"1\" class=\"dataframe\">\n",
    "  <thead>\n",
    "    <tr style=\"text-align: right\">\n",
    "      <th></th>\n",
    "      <th>name</th>\n",
    "      <th>type</th>\n",
    "      <th>hp</th>\n",
    "      <th>evolution</th>\n",
    "      <th>pokedex</th>\n",
    "      <th>place</th>\n",
    "    </tr>\n",
    "  </thead>\n",
    "  <tbody>\n",
    "    <tr>\n",
    "      <th>0</th>\n",
    "      <td>Bulbasaur</td>\n",
    "      <td>grass</td>\n",
    "      <td>45</td>\n",
    "      <td>Ivysaur</td>\n",
    "      <td>yes</td>\n",
    "      <td>park</td>\n",
    "    </tr>\n",
    "    <tr>\n",
    "      <th>1</th>\n",
    "      <td>Charmander</td>\n",
    "      <td>fire</td>\n",
    "      <td>39</td>\n",
    "      <td>Charmeleon</td>\n",
    "      <td>no</td>\n",
    "      <td>street</td>\n",
    "    </tr>\n",
    "    <tr>\n",
    "      <th>2</th>\n",
    "      <td>Squirtle</td>\n",
    "      <td>water</td>\n",
    "      <td>44</td>\n",
    "      <td>Wartortle</td>\n",
    "      <td>yes</td>\n",
    "      <td>lake</td>\n",
    "    </tr>\n",
    "    <tr>\n",
    "      <th>3</th>\n",
    "      <td>Caterpie</td>\n",
    "      <td>bug</td>\n",
    "      <td>45</td>\n",
    "      <td>Metapod</td>\n",
    "      <td>no</td>\n",
    "      <td>forest</td>\n",
    "    </tr>\n",
    "  </tbody>\n",
    "</table>\n",
    "</div>\n",
    "\n",
    "</details>"
   ]
  },
  {
   "cell_type": "code",
   "execution_count": null,
   "metadata": {},
   "outputs": [],
   "source": [
    "# Câu 4: Cho biết kiểu dữ liệu (dtypes) của pokemon.\n"
   ]
  },
  {
   "cell_type": "markdown",
   "metadata": {},
   "source": [
    "<details>\n",
    "  <summary>Nhấn vào đây để xem kết quả!</summary>\n",
    "  \n",
    "<pre>name         object\n",
    "type         object\n",
    "hp            int64\n",
    "evolution    object\n",
    "pokedex      object\n",
    "place        object\n",
    "dtype: object</pre>\n",
    "\n",
    "</details>"
   ]
  }
 ],
 "metadata": {
  "kernelspec": {
   "display_name": "Python 3",
   "language": "python",
   "name": "python3"
  },
  "language_info": {
   "codemirror_mode": {
    "name": "ipython",
    "version": 3
   },
   "file_extension": ".py",
   "mimetype": "text/x-python",
   "name": "python",
   "nbconvert_exporter": "python",
   "pygments_lexer": "ipython3",
   "version": "3.7.6"
  }
 },
 "nbformat": 4,
 "nbformat_minor": 1
}
